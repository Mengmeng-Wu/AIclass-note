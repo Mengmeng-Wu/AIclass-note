{
  "nbformat": 4,
  "nbformat_minor": 0,
  "metadata": {
    "colab": {
      "name": "keras.ipynb",
      "version": "0.3.2",
      "provenance": [],
      "include_colab_link": true
    },
    "kernelspec": {
      "name": "python3",
      "display_name": "Python 3"
    }
  },
  "cells": [
    {
      "cell_type": "markdown",
      "metadata": {
        "id": "view-in-github",
        "colab_type": "text"
      },
      "source": [
        "<a href=\"https://colab.research.google.com/github/Mengmeng-Wu/AIclass-note/blob/master/keras.ipynb\" target=\"_parent\"><img src=\"https://colab.research.google.com/assets/colab-badge.svg\" alt=\"Open In Colab\"/></a>"
      ]
    },
    {
      "metadata": {
        "id": "trDA8x3MMIYU",
        "colab_type": "code",
        "outputId": "920eb164-2ce5-46b3-a09a-b7fac65b06d7",
        "colab": {
          "base_uri": "https://localhost:8080/",
          "height": 34
        }
      },
      "cell_type": "code",
      "source": [
        "import keras"
      ],
      "execution_count": 0,
      "outputs": [
        {
          "output_type": "stream",
          "text": [
            "Using TensorFlow backend.\n"
          ],
          "name": "stderr"
        }
      ]
    },
    {
      "metadata": {
        "id": "RZN06KfKMPnB",
        "colab_type": "code",
        "colab": {}
      },
      "cell_type": "code",
      "source": [
        "from keras.datasets import cifar10"
      ],
      "execution_count": 0,
      "outputs": []
    },
    {
      "metadata": {
        "id": "k3LaItmxMVjN",
        "colab_type": "code",
        "outputId": "e1ba15ea-2c7f-41a5-c0f5-61e7b1c00e46",
        "colab": {
          "base_uri": "https://localhost:8080/",
          "height": 383
        }
      },
      "cell_type": "code",
      "source": [
        "from keras.datasets import mnist\n",
        "from matplotlib import pyplot\n",
        "#loading data\n",
        "(X_train, y_train), (X_test, y_test) = mnist.load_data()\n",
        "#creating a grid of 3x3 images\n",
        "for i in range(0, 9):\n",
        " pyplot.subplot(330 + 1 + i)\n",
        " pyplot.imshow(X_train[i], cmap=pyplot.get_cmap('gray'))\n",
        "#Displaying the plot\n",
        "pyplot.show()\n",
        "\n",
        "\n"
      ],
      "execution_count": 0,
      "outputs": [
        {
          "output_type": "stream",
          "text": [
            "Downloading data from https://s3.amazonaws.com/img-datasets/mnist.npz\n",
            "11493376/11490434 [==============================] - 0s 0us/step\n"
          ],
          "name": "stdout"
        },
        {
          "output_type": "display_data",
          "data": {
            "image/png": "[encoded data removed]",
            "text/plain": [
              "<matplotlib.figure.Figure at 0x7f6dd5b64fd0>"
            ]
          },
          "metadata": {
            "tags": []
          }
        }
      ]
    },
    {
      "metadata": {
        "id": "gNhICH0COZzt",
        "colab_type": "code",
        "outputId": "66abdc0f-2cb6-4bad-bbf5-7b47cf47917a",
        "colab": {
          "base_uri": "https://localhost:8080/",
          "height": 216
        }
      },
      "cell_type": "code",
      "source": [
        "import keras\n",
        "from keras.preprocessing.image import ImageDataGenerator\n",
        "# creating and configuring augmented image generator\n",
        "datagen_train = ImageDataGenerator(\n",
        " width_shift_range=0.1, # shifting randomly images horizontally (10% of total width)\n",
        " height_shift_range=0.1, # shifting randomly images vertically (10% oftotal height)\n",
        " horizontal_flip=True) # flipping randomly images horizontally\n",
        "# creating and configuring augmented image generator\n",
        "datagen_valid = ImageDataGenerator(\n",
        " width_shift_range=0.1, # shifting randomly images horizontally (10% oftotal width)\n",
        " height_shift_range=0.1, # shifting randomly images vertically (10% oftotal height)\n",
        " horizontal_flip=True) # flipping randomly images horizontally\n",
        "# fitting augmented image generator on data\n",
        "datagen_train.fit(x_train)\n",
        "datagen_valid.fit(x_valid)"
      ],
      "execution_count": 0,
      "outputs": [
        {
          "output_type": "error",
          "ename": "NameError",
          "evalue": "ignored",
          "traceback": [
            "\u001b[0;31m---------------------------------------------------------------------------\u001b[0m",
            "\u001b[0;31mNameError\u001b[0m                                 Traceback (most recent call last)",
            "\u001b[0;32m<ipython-input-8-66da67c7c0a5>\u001b[0m in \u001b[0;36m<module>\u001b[0;34m()\u001b[0m\n\u001b[1;32m     12\u001b[0m  horizontal_flip=True) # flipping randomly images horizontally\n\u001b[1;32m     13\u001b[0m \u001b[0;31m# fitting augmented image generator on data\u001b[0m\u001b[0;34m\u001b[0m\u001b[0;34m\u001b[0m\u001b[0m\n\u001b[0;32m---> 14\u001b[0;31m \u001b[0mdatagen_train\u001b[0m\u001b[0;34m.\u001b[0m\u001b[0mfit\u001b[0m\u001b[0;34m(\u001b[0m\u001b[0mx_train\u001b[0m\u001b[0;34m)\u001b[0m\u001b[0;34m\u001b[0m\u001b[0m\n\u001b[0m\u001b[1;32m     15\u001b[0m \u001b[0mdatagen_valid\u001b[0m\u001b[0;34m.\u001b[0m\u001b[0mfit\u001b[0m\u001b[0;34m(\u001b[0m\u001b[0mx_valid\u001b[0m\u001b[0;34m)\u001b[0m\u001b[0;34m\u001b[0m\u001b[0m\n",
            "\u001b[0;31mNameError\u001b[0m: name 'x_train' is not defined"
          ]
        }
      ]
    }
  ]
}
