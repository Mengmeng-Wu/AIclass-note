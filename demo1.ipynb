{
  "nbformat": 4,
  "nbformat_minor": 0,
  "metadata": {
    "colab": {
      "name": "demo1.ipynb",
      "version": "0.3.2",
      "provenance": [],
      "collapsed_sections": [],
      "include_colab_link": true
    },
    "kernelspec": {
      "name": "python3",
      "display_name": "Python 3"
    }
  },
  "cells": [
    {
      "cell_type": "markdown",
      "metadata": {
        "id": "view-in-github",
        "colab_type": "text"
      },
      "source": [
        "[View in Colaboratory](https://colab.research.google.com/github/Mengmeng-Wu/AIclass-note/blob/master/demo1.ipynb)"
      ]
    },
    {
      "metadata": {
        "id": "rAyXuNwK-4QO",
        "colab_type": "code",
        "colab": {
          "base_uri": "https://localhost:8080/",
          "height": 51
        },
        "outputId": "9ef89be1-3e44-4584-96e0-393ba8b9c92b"
      },
      "cell_type": "code",
      "source": [
        "#first_session.py\n",
        "\n",
        "\n",
        "#a simple Python code\n",
        "x = 1\n",
        "y = x + 9\n",
        "print(y)\n",
        "\n",
        "#....and the tensorflow translation of the previous code\n",
        "import tensorflow as tf\n",
        "\n",
        "x = tf.constant(1, name='x')\n",
        "y = tf.Variable(x+9,name='y')\n",
        "print(y)"
      ],
      "execution_count": 1,
      "outputs": [
        {
          "output_type": "stream",
          "text": [
            "10\n",
            "<tf.Variable 'y:0' shape=() dtype=int32_ref>\n"
          ],
          "name": "stdout"
        }
      ]
    },
    {
      "metadata": {
        "id": "SquB8lXB_IAo",
        "colab_type": "code",
        "colab": {
          "base_uri": "https://localhost:8080/",
          "height": 34
        },
        "outputId": "ae6aa2b6-80bd-4f8f-a474-72ed4b271c38"
      },
      "cell_type": "code",
      "source": [
        "#first_session_only_tensorflow.py\n",
        "\n",
        "import tensorflow as tf\n",
        "\n",
        "x = tf.constant(1, name='x')\n",
        "y = tf.Variable(x+9,name='y')\n",
        "\n",
        "\n",
        "model = tf.initialize_all_variables()\n",
        "\n",
        "with tf.Session() as session:\n",
        "    session.run(model)\n",
        "    print(session.run(y))"
      ],
      "execution_count": 3,
      "outputs": [
        {
          "output_type": "stream",
          "text": [
            "10\n"
          ],
          "name": "stdout"
        }
      ]
    },
    {
      "metadata": {
        "id": "RMeyjffh_It-",
        "colab_type": "code",
        "colab": {
          "base_uri": "https://localhost:8080/",
          "height": 131
        },
        "outputId": "36596334-2368-4049-ef38-fe6aac0bc6b4"
      },
      "cell_type": "code",
      "source": [
        "import tensorflow as tf\n",
        "\n",
        "a = tf.placeholder(\"int32\")\n",
        "b = tf.placeholder(\"int32\")\n",
        "\n",
        "y = tf.mul(a,b)\n",
        "\n",
        "sess = tf.Session()\n",
        "\n",
        "print sess.run(y, feed_dict={a : 2,b:5})"
      ],
      "execution_count": 13,
      "outputs": [
        {
          "output_type": "error",
          "ename": "SyntaxError",
          "evalue": "ignored",
          "traceback": [
            "\u001b[0;36m  File \u001b[0;32m\"<ipython-input-13-43eba25ab462>\"\u001b[0;36m, line \u001b[0;32m10\u001b[0m\n\u001b[0;31m    print sess.run(y, feed_dict={a : 2,b:5})\u001b[0m\n\u001b[0m             ^\u001b[0m\n\u001b[0;31mSyntaxError\u001b[0m\u001b[0;31m:\u001b[0m invalid syntax\n"
          ]
        }
      ]
    },
    {
      "metadata": {
        "id": "bttZnT4w_IzU",
        "colab_type": "code",
        "colab": {
          "base_uri": "https://localhost:8080/",
          "height": 34
        },
        "outputId": "3372ede2-7bd3-4c7b-f0b9-5cfdaaf4e42e"
      },
      "cell_type": "code",
      "source": [
        "#根據上述錯誤 此為修正版本\n",
        "import tensorflow as tf\n",
        "\n",
        "a = tf.placeholder(\"int32\")\n",
        "b = tf.placeholder(\"int32\")\n",
        "\n",
        "y = tf.multiply(a,b)# mul -> multiply\n",
        "\n",
        "sess = tf.Session()\n",
        "\n",
        "print(sess.run(y, feed_dict={a : 2,b:5})) #少了()"
      ],
      "execution_count": 15,
      "outputs": [
        {
          "output_type": "stream",
          "text": [
            "10\n"
          ],
          "name": "stdout"
        }
      ]
    }
  ]
}