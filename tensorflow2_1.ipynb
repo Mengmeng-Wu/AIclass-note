{
  "nbformat": 4,
  "nbformat_minor": 0,
  "metadata": {
    "colab": {
      "name": "tensorflow2_1.ipynb",
      "version": "0.3.2",
      "provenance": [],
      "include_colab_link": true
    },
    "kernelspec": {
      "name": "python3",
      "display_name": "Python 3"
    }
  },
  "cells": [
    {
      "cell_type": "markdown",
      "metadata": {
        "id": "view-in-github",
        "colab_type": "text"
      },
      "source": [
        "<a href=\"https://colab.research.google.com/github/Mengmeng-Wu/AIclass-note/blob/master/tensorflow2_1.ipynb\" target=\"_parent\"><img src=\"https://colab.research.google.com/assets/colab-badge.svg\" alt=\"Open In Colab\"/></a>"
      ]
    },
    {
      "metadata": {
        "id": "SxIn_6P8_5pl",
        "colab_type": "code",
        "colab": {
          "base_uri": "https://localhost:8080/",
          "height": 68
        },
        "outputId": "8a658d70-999c-4eab-fba8-72b315e30a0a"
      },
      "cell_type": "code",
      "source": [
        "\n",
        "import numpy as np\n",
        "\n",
        "tensor_1d = np.array([1.3,1,4.0,23.99])\n",
        "\n",
        "print (tensor_1d)\n",
        "\n",
        "print (tensor_1d[0])\n",
        "\n",
        "print(tensor_1d[2])\n",
        "\n",
        "\n"
      ],
      "execution_count": 9,
      "outputs": [
        {
          "output_type": "stream",
          "text": [
            "[ 1.3   1.    4.   23.99]\n",
            "1.3\n",
            "4.0\n"
          ],
          "name": "stdout"
        }
      ]
    }
  ]
}